{
 "cells": [
  {
   "cell_type": "markdown",
   "metadata": {},
   "source": [
    "# Marketing Analysis HW1\n",
    "### 2020 NYU Stern - NYU Shanghai Fall Semester\n",
    "#### By: Ruijie Cai, Chengzhuo Huang, Qinyan Song, Jiawen Wang"
   ]
  },
  {
   "cell_type": "markdown",
   "metadata": {},
   "source": [
    "# Setup Experiment"
   ]
  },
  {
   "cell_type": "markdown",
   "metadata": {},
   "source": [
    "We will run an A/B test for Booking.com's hypothesis that users value the area around the location of their rental room (hotel, private residence, etc.). The goal of running an A/B test is to evaluate whether Alternative B improved conversion rates (site users book the property) over alternative A."
   ]
  },
  {
   "cell_type": "code",
   "execution_count": 16,
   "metadata": {},
   "outputs": [
    {
     "data": {
      "text/html": [
       "<div>\n",
       "<style scoped>\n",
       "    .dataframe tbody tr th:only-of-type {\n",
       "        vertical-align: middle;\n",
       "    }\n",
       "\n",
       "    .dataframe tbody tr th {\n",
       "        vertical-align: top;\n",
       "    }\n",
       "\n",
       "    .dataframe thead th {\n",
       "        text-align: right;\n",
       "    }\n",
       "</style>\n",
       "<table border=\"1\" class=\"dataframe\">\n",
       "  <thead>\n",
       "    <tr style=\"text-align: right;\">\n",
       "      <th></th>\n",
       "      <th>purchase_TF</th>\n",
       "      <th>Variant</th>\n",
       "      <th>date</th>\n",
       "      <th>id</th>\n",
       "    </tr>\n",
       "  </thead>\n",
       "  <tbody>\n",
       "    <tr>\n",
       "      <th>0</th>\n",
       "      <td>False</td>\n",
       "      <td>A</td>\n",
       "      <td>2019-11-08</td>\n",
       "      <td>0x25b44a</td>\n",
       "    </tr>\n",
       "    <tr>\n",
       "      <th>1</th>\n",
       "      <td>False</td>\n",
       "      <td>B</td>\n",
       "      <td>2020-08-27</td>\n",
       "      <td>0x46271e</td>\n",
       "    </tr>\n",
       "    <tr>\n",
       "      <th>2</th>\n",
       "      <td>False</td>\n",
       "      <td>A</td>\n",
       "      <td>2020-06-11</td>\n",
       "      <td>0x80b8f1</td>\n",
       "    </tr>\n",
       "    <tr>\n",
       "      <th>3</th>\n",
       "      <td>False</td>\n",
       "      <td>B</td>\n",
       "      <td>2020-08-22</td>\n",
       "      <td>0x8d736d</td>\n",
       "    </tr>\n",
       "    <tr>\n",
       "      <th>4</th>\n",
       "      <td>False</td>\n",
       "      <td>A</td>\n",
       "      <td>2020-08-05</td>\n",
       "      <td>0x96c9c8</td>\n",
       "    </tr>\n",
       "    <tr>\n",
       "      <th>...</th>\n",
       "      <td>...</td>\n",
       "      <td>...</td>\n",
       "      <td>...</td>\n",
       "      <td>...</td>\n",
       "    </tr>\n",
       "    <tr>\n",
       "      <th>129995</th>\n",
       "      <td>False</td>\n",
       "      <td>A</td>\n",
       "      <td>2020-07-23</td>\n",
       "      <td>0x4089c2</td>\n",
       "    </tr>\n",
       "    <tr>\n",
       "      <th>129996</th>\n",
       "      <td>False</td>\n",
       "      <td>A</td>\n",
       "      <td>2020-06-24</td>\n",
       "      <td>0x6a5e3a</td>\n",
       "    </tr>\n",
       "    <tr>\n",
       "      <th>129997</th>\n",
       "      <td>False</td>\n",
       "      <td>A</td>\n",
       "      <td>2019-10-12</td>\n",
       "      <td>0x95e302</td>\n",
       "    </tr>\n",
       "    <tr>\n",
       "      <th>129998</th>\n",
       "      <td>False</td>\n",
       "      <td>A</td>\n",
       "      <td>2020-03-18</td>\n",
       "      <td>0x7c4afa</td>\n",
       "    </tr>\n",
       "    <tr>\n",
       "      <th>129999</th>\n",
       "      <td>False</td>\n",
       "      <td>A</td>\n",
       "      <td>2019-12-09</td>\n",
       "      <td>0x380071</td>\n",
       "    </tr>\n",
       "  </tbody>\n",
       "</table>\n",
       "<p>130000 rows × 4 columns</p>\n",
       "</div>"
      ],
      "text/plain": [
       "        purchase_TF Variant        date        id\n",
       "0             False       A  2019-11-08  0x25b44a\n",
       "1             False       B  2020-08-27  0x46271e\n",
       "2             False       A  2020-06-11  0x80b8f1\n",
       "3             False       B  2020-08-22  0x8d736d\n",
       "4             False       A  2020-08-05  0x96c9c8\n",
       "...             ...     ...         ...       ...\n",
       "129995        False       A  2020-07-23  0x4089c2\n",
       "129996        False       A  2020-06-24  0x6a5e3a\n",
       "129997        False       A  2019-10-12  0x95e302\n",
       "129998        False       A  2020-03-18  0x7c4afa\n",
       "129999        False       A  2019-12-09  0x380071\n",
       "\n",
       "[130000 rows x 4 columns]"
      ]
     },
     "execution_count": 16,
     "metadata": {},
     "output_type": "execute_result"
    }
   ],
   "source": [
    "import pandas as pd\n",
    "data=pd.read_csv('AB_test_data.csv')\n",
    "data"
   ]
  },
  {
   "cell_type": "code",
   "execution_count": 17,
   "metadata": {},
   "outputs": [
    {
     "data": {
      "text/html": [
       "<div>\n",
       "<style scoped>\n",
       "    .dataframe tbody tr th:only-of-type {\n",
       "        vertical-align: middle;\n",
       "    }\n",
       "\n",
       "    .dataframe tbody tr th {\n",
       "        vertical-align: top;\n",
       "    }\n",
       "\n",
       "    .dataframe thead th {\n",
       "        text-align: right;\n",
       "    }\n",
       "</style>\n",
       "<table border=\"1\" class=\"dataframe\">\n",
       "  <thead>\n",
       "    <tr style=\"text-align: right;\">\n",
       "      <th></th>\n",
       "      <th>count</th>\n",
       "    </tr>\n",
       "    <tr>\n",
       "      <th>Variant</th>\n",
       "      <th></th>\n",
       "    </tr>\n",
       "  </thead>\n",
       "  <tbody>\n",
       "    <tr>\n",
       "      <th>A</th>\n",
       "      <td>125000</td>\n",
       "    </tr>\n",
       "    <tr>\n",
       "      <th>B</th>\n",
       "      <td>5000</td>\n",
       "    </tr>\n",
       "  </tbody>\n",
       "</table>\n",
       "</div>"
      ],
      "text/plain": [
       "          count\n",
       "Variant        \n",
       "A        125000\n",
       "B          5000"
      ]
     },
     "execution_count": 17,
     "metadata": {},
     "output_type": "execute_result"
    }
   ],
   "source": [
    "summary = data.pivot_table(values='purchase_TF', index='Variant', aggfunc=lambda x: len(x))\n",
    "summary = summary.rename(columns = {\"purchase_TF\":\"count\"})\n",
    "summary"
   ]
  },
  {
   "cell_type": "markdown",
   "metadata": {},
   "source": [
    "# Q1: Conduct an A/B test to determine whether Alternative B improved conversion rates (site users book the property) over alternative A."
   ]
  },
  {
   "cell_type": "code",
   "execution_count": 18,
   "metadata": {},
   "outputs": [],
   "source": [
    "test_A=data[data['Variant']=='A']\n",
    "test_B=data[data['Variant']=='B']"
   ]
  },
  {
   "cell_type": "code",
   "execution_count": 19,
   "metadata": {
    "scrolled": true
   },
   "outputs": [
    {
     "data": {
      "text/html": [
       "<div>\n",
       "<style scoped>\n",
       "    .dataframe tbody tr th:only-of-type {\n",
       "        vertical-align: middle;\n",
       "    }\n",
       "\n",
       "    .dataframe tbody tr th {\n",
       "        vertical-align: top;\n",
       "    }\n",
       "\n",
       "    .dataframe thead th {\n",
       "        text-align: right;\n",
       "    }\n",
       "</style>\n",
       "<table border=\"1\" class=\"dataframe\">\n",
       "  <thead>\n",
       "    <tr style=\"text-align: right;\">\n",
       "      <th></th>\n",
       "      <th>count</th>\n",
       "    </tr>\n",
       "    <tr>\n",
       "      <th>purchase_TF</th>\n",
       "      <th></th>\n",
       "    </tr>\n",
       "  </thead>\n",
       "  <tbody>\n",
       "    <tr>\n",
       "      <th>False</th>\n",
       "      <td>106298</td>\n",
       "    </tr>\n",
       "    <tr>\n",
       "      <th>True</th>\n",
       "      <td>18702</td>\n",
       "    </tr>\n",
       "  </tbody>\n",
       "</table>\n",
       "</div>"
      ],
      "text/plain": [
       "              count\n",
       "purchase_TF        \n",
       "False        106298\n",
       "True          18702"
      ]
     },
     "execution_count": 19,
     "metadata": {},
     "output_type": "execute_result"
    }
   ],
   "source": [
    "summary_A = test_A.pivot_table(values='Variant', index='purchase_TF', aggfunc=lambda x: len(x))\n",
    "summary_A = summary_A.rename(columns = {\"Variant\":\"count\"})\n",
    "summary_A"
   ]
  },
  {
   "cell_type": "code",
   "execution_count": 20,
   "metadata": {},
   "outputs": [
    {
     "data": {
      "text/html": [
       "<div>\n",
       "<style scoped>\n",
       "    .dataframe tbody tr th:only-of-type {\n",
       "        vertical-align: middle;\n",
       "    }\n",
       "\n",
       "    .dataframe tbody tr th {\n",
       "        vertical-align: top;\n",
       "    }\n",
       "\n",
       "    .dataframe thead th {\n",
       "        text-align: right;\n",
       "    }\n",
       "</style>\n",
       "<table border=\"1\" class=\"dataframe\">\n",
       "  <thead>\n",
       "    <tr style=\"text-align: right;\">\n",
       "      <th></th>\n",
       "      <th>count</th>\n",
       "    </tr>\n",
       "    <tr>\n",
       "      <th>purchase_TF</th>\n",
       "      <th></th>\n",
       "    </tr>\n",
       "  </thead>\n",
       "  <tbody>\n",
       "    <tr>\n",
       "      <th>False</th>\n",
       "      <td>4117</td>\n",
       "    </tr>\n",
       "    <tr>\n",
       "      <th>True</th>\n",
       "      <td>883</td>\n",
       "    </tr>\n",
       "  </tbody>\n",
       "</table>\n",
       "</div>"
      ],
      "text/plain": [
       "             count\n",
       "purchase_TF       \n",
       "False         4117\n",
       "True           883"
      ]
     },
     "execution_count": 20,
     "metadata": {},
     "output_type": "execute_result"
    }
   ],
   "source": [
    "summary_B = test_B.pivot_table(values='Variant', index='purchase_TF', aggfunc=lambda x: len(x))\n",
    "summary_B = summary_B.rename(columns = {\"Variant\":\"count\"})\n",
    "summary_B"
   ]
  },
  {
   "cell_type": "code",
   "execution_count": 21,
   "metadata": {},
   "outputs": [],
   "source": [
    "cr_A = 18702/125000\n",
    "cr_B = 883/5000"
   ]
  },
  {
   "cell_type": "code",
   "execution_count": 22,
   "metadata": {},
   "outputs": [
    {
     "data": {
      "text/plain": [
       "0.149616"
      ]
     },
     "execution_count": 22,
     "metadata": {},
     "output_type": "execute_result"
    }
   ],
   "source": [
    "cr_A"
   ]
  },
  {
   "cell_type": "code",
   "execution_count": 23,
   "metadata": {},
   "outputs": [
    {
     "data": {
      "text/plain": [
       "0.1766"
      ]
     },
     "execution_count": 23,
     "metadata": {},
     "output_type": "execute_result"
    }
   ],
   "source": [
    "cr_B"
   ]
  },
  {
   "cell_type": "code",
   "execution_count": 24,
   "metadata": {},
   "outputs": [
    {
     "data": {
      "text/plain": [
       "0.026984000000000008"
      ]
     },
     "execution_count": 24,
     "metadata": {},
     "output_type": "execute_result"
    }
   ],
   "source": [
    "cr_B - cr_A"
   ]
  },
  {
   "cell_type": "code",
   "execution_count": 25,
   "metadata": {
    "scrolled": true
   },
   "outputs": [
    {
     "data": {
      "text/plain": [
       "5.349273094732516"
      ]
     },
     "execution_count": 25,
     "metadata": {},
     "output_type": "execute_result"
    }
   ],
   "source": [
    "import numpy\n",
    "\n",
    "Z = (cr_B - cr_A)/numpy.sqrt(cr_A*(1-cr_A)/5000)\n",
    "Z"
   ]
  },
  {
   "cell_type": "markdown",
   "metadata": {},
   "source": [
    "Hypothesis Testing：\n",
    "\n",
    "$H_0: P_b <= P$\n",
    "\n",
    "$H_a: P_b > P$\n",
    " \n",
    "z_score = 5.349273094732516 > 1.96 (95%)\n",
    "\n",
    "Therefore, we reject $H_0$\n",
    "\n",
    "Alternative B improved conversion rates (site users book the property) over alternative A."
   ]
  },
  {
   "cell_type": "markdown",
   "metadata": {},
   "source": [
    "# Q2: Calculate the optimal sample size for a 95% confidence rate and test with 80% power. Conduct the test 10 times using samples of the optimal size. Report results.\n"
   ]
  },
  {
   "cell_type": "markdown",
   "metadata": {},
   "source": [
    "Let’s say the conversion rate of your product page with the existing icon is 14.9616% (baseline conversion rate). You assume that the new icon should have at least a 17% conversion rate for you to use it instead of the existing icon.\n",
    "\n",
    "So, you have to configure an experiment in such a way that it declares the winner when the conversion rate difference is at least 16.9616% – 14.9616% = 2%. To set that up, you have to count your estimated MDE. \n",
    "\n",
    "MDE is calculated as a percent of the baseline conversion rate: \n",
    "\n",
    "MDE = desired conversion rate lift / baseline conversion rate x 100%\n",
    "MDE = 2/14.9616"
   ]
  },
  {
   "cell_type": "code",
   "execution_count": 26,
   "metadata": {},
   "outputs": [
    {
     "name": "stdout",
     "output_type": "stream",
     "text": [
      "2941.6814032458096\n"
     ]
    }
   ],
   "source": [
    "from scipy import stats\n",
    "import scipy\n",
    "import numpy as np\n",
    "norm = scipy.stats.norm()\n",
    "\n",
    "A = test_A['purchase_TF'].tolist()\n",
    "B = test_B['purchase_TF'].tolist()\n",
    "mean_A = np.mean(A)\n",
    "mean_B = np.mean(B)\n",
    "var_A = np.var(A)\n",
    "var_B = np.var(B)\n",
    "#mde = norm.ppf(0.8)*np.sqrt(var_A/len(A)+var_B/len(B))+(mean_A-mean_B)\n",
    "mde = cr_B - cr_A\n",
    "p = (mean_A+mean_B)/2\n",
    "n = (((norm.ppf(0.975)*np.sqrt(2*p*(1-p)) + norm.ppf(0.8)*np.sqrt(mean_A*(1-mean_A)+mean_B*(1-mean_B))))**2)/(mde**2)\n",
    "print(n)"
   ]
  },
  {
   "cell_type": "code",
   "execution_count": 35,
   "metadata": {},
   "outputs": [
    {
     "name": "stdout",
     "output_type": "stream",
     "text": [
      "The improvment of B is statistically siginificant.\n",
      "t score is:  4.049151010465374\n",
      "The improvment of B is statistically siginificant.\n",
      "t score is:  4.047387573530014\n",
      "The improvment of B is statistically siginificant.\n",
      "t score is:  4.048830214121312\n",
      "The improvment of B is statistically siginificant.\n",
      "t score is:  4.048990602762236\n",
      "The improvment of B is statistically siginificant.\n",
      "t score is:  4.049873081125648\n",
      "The improvment of B is statistically siginificant.\n",
      "t score is:  4.0482690039385085\n",
      "The improvment of B is statistically siginificant.\n",
      "t score is:  4.0478682823709\n",
      "The improvment of B is statistically siginificant.\n",
      "t score is:  4.049391657769989\n",
      "The improvment of B is statistically siginificant.\n",
      "t score is:  4.046186550295568\n",
      "The improvment of B is statistically siginificant.\n",
      "t score is:  4.046826962945632\n"
     ]
    }
   ],
   "source": [
    "from random import sample\n",
    "import math\n",
    "\n",
    "def t_test(A,B,confidence):\n",
    "    s = 0\n",
    "    for i in range(len(A)):\n",
    "        s += (A[i]-mean_A)**2\n",
    "    for j in range(len(B)):\n",
    "        s += (B[j]-mean_B)**2\n",
    "    s = np.sqrt(s/(len(A)+len(B)-2))\n",
    "    t = (mean_B-mean_A)/(s*np.sqrt(1/len(A)+1/len(B)))\n",
    "    if t >= norm.ppf(confidence):\n",
    "        print('The improvment of B is statistically siginificant.')\n",
    "    else:\n",
    "        print('The improvment of B is not statistically siginificant.')\n",
    "    print('t score is: ', t)\n",
    "    return t\n",
    "\n",
    "size  = math.ceil(n)\n",
    "for i in range(10):\n",
    "    B_sample = sample(B,int(n))\n",
    "    t_test(A,B_sample,0.95)"
   ]
  },
  {
   "cell_type": "markdown",
   "metadata": {},
   "source": [
    "# Q3: Conduct a sequential test for the 10 samples. For any of the samples, were you able to stop the test prior to using the full sample? What was the average number of iterations required to stop the test?"
   ]
  },
  {
   "cell_type": "code",
   "execution_count": 56,
   "metadata": {},
   "outputs": [
    {
     "name": "stdout",
     "output_type": "stream",
     "text": [
      "Fail to reject H0 in 75 trials\n",
      "Reject H0 in 1217 trials\n",
      "Reject H0 in 419 trials\n",
      "Fail to reject H0 in 195 trials\n",
      "Reject H0 in 984 trials\n",
      "Reject H0 in 2796 trials\n",
      "Reject H0 in 978 trials\n",
      "Reject H0 in 978 trials\n",
      "Reject H0 in 738 trials\n",
      "Reject H0 in 708 trials\n",
      "908.8\n"
     ]
    }
   ],
   "source": [
    "import random\n",
    "\n",
    "iteration = list() \n",
    "size  = math.ceil(n)\n",
    "for k in range(10):\n",
    "\n",
    "    ln_A = np.log(1/0.05)\n",
    "    ln_B = np.log(1-0.8)\n",
    "    total_sample = A+B\n",
    "\n",
    "    random.shuffle(total_sample)\n",
    "    p_A = np.mean(A)\n",
    "    p_B = np.mean(B)\n",
    "    accumulative_log_lamda = 0\n",
    "    i=0\n",
    "    while (accumulative_log_lamda>ln_B) and (accumulative_log_lamda <ln_A):\n",
    "        if total_sample[i]:\n",
    "            accumulative_log_lamda += np.log(p_A/p_B)\n",
    "        else:\n",
    "            accumulative_log_lamda += np.log((1-p_A)/(1-p_B))\n",
    "        i+=1\n",
    "\n",
    "        if i >= n:\n",
    "            print('Cannot reject or accept H0')\n",
    "            break\n",
    "    if accumulative_log_lamda <= ln_B:\n",
    "        print('Fail to reject H0 in {} trials'.format(i))\n",
    "    elif accumulative_log_lamda >= ln_A:\n",
    "        print('Reject H0 in {} trials'.format(i))\n",
    "    iteration.append(i)\n",
    "print(np.average(iteration))"
   ]
  },
  {
   "cell_type": "code",
   "execution_count": null,
   "metadata": {},
   "outputs": [],
   "source": []
  },
  {
   "cell_type": "code",
   "execution_count": null,
   "metadata": {},
   "outputs": [],
   "source": []
  }
 ],
 "metadata": {
  "kernelspec": {
   "display_name": "Python 3",
   "language": "python",
   "name": "python3"
  },
  "language_info": {
   "codemirror_mode": {
    "name": "ipython",
    "version": 3
   },
   "file_extension": ".py",
   "mimetype": "text/x-python",
   "name": "python",
   "nbconvert_exporter": "python",
   "pygments_lexer": "ipython3",
   "version": "3.8.3"
  }
 },
 "nbformat": 4,
 "nbformat_minor": 4
}
